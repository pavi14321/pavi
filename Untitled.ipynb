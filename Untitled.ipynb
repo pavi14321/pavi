{
 "cells": [
  {
   "cell_type": "code",
   "execution_count": null,
   "id": "ce45d146-4ea6-4fa3-b092-ef4bb8d8d50a",
   "metadata": {},
   "outputs": [],
   "source": [
    "d2 = pd.read_csv(\"./datafile (2).csv\")\n",
    "d3 = pd.read_csv(\"./datafile (3).csv\")\n",
    "d4 = pd.read_csv(\"./datafile.csv\")"
   ]
  },
  {
   "cell_type": "code",
   "execution_count": null,
   "id": "40f4d870-15c7-41fc-8044-0174d6408fa5",
   "metadata": {},
   "outputs": [],
   "source": [
    "import plotly.express as px\n",
    "import plotly_ecdf\n",
    "plt.figure(figsize=(12,6))\n",
    "k=px.sunburst(d1,path=['State','Crop'],values='Yield',\n",
    "              hover_data=['Yield'], color_continuous_scale='Blues')  # Specify the color scale here)\n",
    "k.update_layout(title='Best Yield Capacity Crop')\n",
    "k.show()"
   ]
  }
 ],
 "metadata": {
  "kernelspec": {
   "display_name": "Python 3 (ipykernel)",
   "language": "python",
   "name": "python3"
  },
  "language_info": {
   "codemirror_mode": {
    "name": "ipython",
    "version": 3
   },
   "file_extension": ".py",
   "mimetype": "text/x-python",
   "name": "python",
   "nbconvert_exporter": "python",
   "pygments_lexer": "ipython3",
   "version": "3.12.0"
  }
 },
 "nbformat": 4,
 "nbformat_minor": 5
}
